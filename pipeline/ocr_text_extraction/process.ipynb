{
 "cells": [
  {
   "cell_type": "code",
   "execution_count": 17,
   "metadata": {},
   "outputs": [
    {
     "name": "stdout",
     "output_type": "stream",
     "text": [
      "                                            pdf_path  page_count  is_relevant  \\\n",
      "0  file:/home/ubuntu/Indo-Journals/indo_journals_...          10        False   \n",
      "1  file:/home/ubuntu/Indo-Journals/indo_journals_...          11        False   \n",
      "2  file:/home/ubuntu/Indo-Journals/indo_journals_...          18         True   \n",
      "3  file:/home/ubuntu/Indo-Journals/indo_journals_...           6        False   \n",
      "4  file:/home/ubuntu/Indo-Journals/indo_journals_...           8         True   \n",
      "\n",
      "                                            ocr_text  \n",
      "0  ABDIMAS : Jurnal Pengabdian Masyarakat Univers...  \n",
      "1  STRATEGI MANAJEMEN SEBAGAI FAKTOR MITICASI DAL...  \n",
      "2   \\nJurnal Al Bayan : Jurnal Jurusan  Pendidika...  \n",
      "3  Medical Laboratory Technology Journal  \\n5 (2)...  \n",
      "4  PENDAHULUAN\\nPendekatan ekonomi politik peruba...  \n",
      "<class 'pandas.core.frame.DataFrame'>\n",
      "RangeIndex: 23 entries, 0 to 22\n",
      "Data columns (total 4 columns):\n",
      " #   Column       Non-Null Count  Dtype \n",
      "---  ------       --------------  ----- \n",
      " 0   pdf_path     23 non-null     object\n",
      " 1   page_count   23 non-null     int64 \n",
      " 2   is_relevant  23 non-null     bool  \n",
      " 3   ocr_text     23 non-null     object\n",
      "dtypes: bool(1), int64(1), object(2)\n",
      "memory usage: 703.0+ bytes\n"
     ]
    }
   ],
   "source": [
    "# import csv into pandas dataframe\n",
    "import pandas as pd\n",
    "\n",
    "# read csv file\n",
    "# df = pd.read_csv('/home/ubuntu/west-filesys/indo-journal-pipeline/subset_1_filtered_updated.csv')\n",
    "\n",
    "# CSV file from output of quality filtering, currently pdf_path is based on R7I path, so we need to replace it with the base path of this VM\n",
    "df = pd.read_csv('/home/ubuntu/us-south-fs/indo-journal-pipeline/sample_filtered_latest_25.csv')\n",
    "\n",
    "# show dataframe\n",
    "print(df.head())\n",
    "\n",
    "df.info()\n"
   ]
  },
  {
   "cell_type": "code",
   "execution_count": 18,
   "metadata": {},
   "outputs": [
    {
     "data": {
      "text/plain": [
       "23"
      ]
     },
     "execution_count": 18,
     "metadata": {},
     "output_type": "execute_result"
    }
   ],
   "source": [
    "# use this to save only 2 columns of final output CSV\n",
    "\n",
    "len(df)\n",
    "# drop rows with null values in pdf_path column\n",
    "# df = df.dropna(subset=[\"pdf_path\"])\n",
    "# len(df)\n",
    "# print(df.iloc[12])\n",
    "# print(df.iloc[12][\"extracted_meaningful_text\"])\n",
    "\n",
    "# drop page_ount and md_extraction_result columns\n",
    "# df = df.drop(columns=[\"page_count\", \"md_extraction_result\"])\n",
    "# df.head()\n",
    "\n",
    "# len(df)\n",
    "# save dataframe to csv override the existing file\n",
    "# df.to_csv('/home/ubuntu/Indo-Journals/subset_1_filtered_updated_final_output.csv', index=False) # incomplete cos not all 10K in there\n"
   ]
  },
  {
   "cell_type": "code",
   "execution_count": 19,
   "metadata": {},
   "outputs": [
    {
     "data": {
      "text/html": [
       "<div>\n",
       "<style scoped>\n",
       "    .dataframe tbody tr th:only-of-type {\n",
       "        vertical-align: middle;\n",
       "    }\n",
       "\n",
       "    .dataframe tbody tr th {\n",
       "        vertical-align: top;\n",
       "    }\n",
       "\n",
       "    .dataframe thead th {\n",
       "        text-align: right;\n",
       "    }\n",
       "</style>\n",
       "<table border=\"1\" class=\"dataframe\">\n",
       "  <thead>\n",
       "    <tr style=\"text-align: right;\">\n",
       "      <th></th>\n",
       "      <th>pdf_path</th>\n",
       "      <th>page_count</th>\n",
       "      <th>is_relevant</th>\n",
       "      <th>ocr_text</th>\n",
       "    </tr>\n",
       "  </thead>\n",
       "  <tbody>\n",
       "    <tr>\n",
       "      <th>0</th>\n",
       "      <td>/home/ubuntu/us-south-fs/indo-journal-pipeline...</td>\n",
       "      <td>10</td>\n",
       "      <td>False</td>\n",
       "      <td>ABDIMAS : Jurnal Pengabdian Masyarakat Univers...</td>\n",
       "    </tr>\n",
       "    <tr>\n",
       "      <th>1</th>\n",
       "      <td>/home/ubuntu/us-south-fs/indo-journal-pipeline...</td>\n",
       "      <td>11</td>\n",
       "      <td>False</td>\n",
       "      <td>STRATEGI MANAJEMEN SEBAGAI FAKTOR MITICASI DAL...</td>\n",
       "    </tr>\n",
       "    <tr>\n",
       "      <th>2</th>\n",
       "      <td>/home/ubuntu/us-south-fs/indo-journal-pipeline...</td>\n",
       "      <td>18</td>\n",
       "      <td>True</td>\n",
       "      <td>\\nJurnal Al Bayan : Jurnal Jurusan  Pendidika...</td>\n",
       "    </tr>\n",
       "    <tr>\n",
       "      <th>3</th>\n",
       "      <td>/home/ubuntu/us-south-fs/indo-journal-pipeline...</td>\n",
       "      <td>6</td>\n",
       "      <td>False</td>\n",
       "      <td>Medical Laboratory Technology Journal  \\n5 (2)...</td>\n",
       "    </tr>\n",
       "    <tr>\n",
       "      <th>4</th>\n",
       "      <td>/home/ubuntu/us-south-fs/indo-journal-pipeline...</td>\n",
       "      <td>8</td>\n",
       "      <td>True</td>\n",
       "      <td>PENDAHULUAN\\nPendekatan ekonomi politik peruba...</td>\n",
       "    </tr>\n",
       "  </tbody>\n",
       "</table>\n",
       "</div>"
      ],
      "text/plain": [
       "                                            pdf_path  page_count  is_relevant  \\\n",
       "0  /home/ubuntu/us-south-fs/indo-journal-pipeline...          10        False   \n",
       "1  /home/ubuntu/us-south-fs/indo-journal-pipeline...          11        False   \n",
       "2  /home/ubuntu/us-south-fs/indo-journal-pipeline...          18         True   \n",
       "3  /home/ubuntu/us-south-fs/indo-journal-pipeline...           6        False   \n",
       "4  /home/ubuntu/us-south-fs/indo-journal-pipeline...           8         True   \n",
       "\n",
       "                                            ocr_text  \n",
       "0  ABDIMAS : Jurnal Pengabdian Masyarakat Univers...  \n",
       "1  STRATEGI MANAJEMEN SEBAGAI FAKTOR MITICASI DAL...  \n",
       "2   \\nJurnal Al Bayan : Jurnal Jurusan  Pendidika...  \n",
       "3  Medical Laboratory Technology Journal  \\n5 (2)...  \n",
       "4  PENDAHULUAN\\nPendekatan ekonomi politik peruba...  "
      ]
     },
     "execution_count": 19,
     "metadata": {},
     "output_type": "execute_result"
    }
   ],
   "source": [
    "# replace all column values in 'file_path' column where \"/data/users/brandon/ob1-projects/data_processing/indo_journals_sample\" with \"/home/ubuntu/Indo-Journals\"\n",
    "df['pdf_path'] = df['pdf_path'].replace(\n",
    "    'file:/home/ubuntu/Indo-Journals',\n",
    "    '/home/ubuntu/us-south-fs/indo-journal-pipeline', # TODO: replace with base path in VM\n",
    "    regex=True\n",
    ")\n",
    "\n",
    "# show dataframe\n",
    "df.head()"
   ]
  },
  {
   "cell_type": "code",
   "execution_count": 20,
   "metadata": {},
   "outputs": [
    {
     "name": "stdout",
     "output_type": "stream",
     "text": [
      "/home/ubuntu/us-south-fs/indo-journal-pipeline/indo_journals_sample/1346-2801-1-PB_1.pdf\n"
     ]
    }
   ],
   "source": [
    "df.iloc[0][\"pdf_path\"]\n",
    "\n",
    "# print the pdf_path with the file: prefix\n",
    "print(f\"{df.iloc[1]['pdf_path']}\")"
   ]
  },
  {
   "cell_type": "code",
   "execution_count": 21,
   "metadata": {},
   "outputs": [],
   "source": [
    "# save dataframe to csv without overwriting the existing file\n",
    "df.to_csv('/home/ubuntu/us-south-fs/goto_indo_journal_pipeline/pipeline/ocr_text_extraction/sample_filtered_latest_25_pdf_path.csv', index=False)"
   ]
  },
  {
   "cell_type": "code",
   "execution_count": 22,
   "metadata": {},
   "outputs": [
    {
     "data": {
      "text/html": [
       "<div>\n",
       "<style scoped>\n",
       "    .dataframe tbody tr th:only-of-type {\n",
       "        vertical-align: middle;\n",
       "    }\n",
       "\n",
       "    .dataframe tbody tr th {\n",
       "        vertical-align: top;\n",
       "    }\n",
       "\n",
       "    .dataframe thead th {\n",
       "        text-align: right;\n",
       "    }\n",
       "</style>\n",
       "<table border=\"1\" class=\"dataframe\">\n",
       "  <thead>\n",
       "    <tr style=\"text-align: right;\">\n",
       "      <th></th>\n",
       "      <th>pdf_path</th>\n",
       "      <th>page_count</th>\n",
       "      <th>is_relevant</th>\n",
       "      <th>ocr_text</th>\n",
       "    </tr>\n",
       "  </thead>\n",
       "  <tbody>\n",
       "    <tr>\n",
       "      <th>0</th>\n",
       "      <td>/home/ubuntu/us-south-fs/indo-journal-pipeline...</td>\n",
       "      <td>10</td>\n",
       "      <td>False</td>\n",
       "      <td>ABDIMAS : Jurnal Pengabdian Masyarakat Univers...</td>\n",
       "    </tr>\n",
       "    <tr>\n",
       "      <th>1</th>\n",
       "      <td>/home/ubuntu/us-south-fs/indo-journal-pipeline...</td>\n",
       "      <td>11</td>\n",
       "      <td>False</td>\n",
       "      <td>STRATEGI MANAJEMEN SEBAGAI FAKTOR MITICASI DAL...</td>\n",
       "    </tr>\n",
       "    <tr>\n",
       "      <th>2</th>\n",
       "      <td>/home/ubuntu/us-south-fs/indo-journal-pipeline...</td>\n",
       "      <td>18</td>\n",
       "      <td>True</td>\n",
       "      <td>\\nJurnal Al Bayan : Jurnal Jurusan  Pendidika...</td>\n",
       "    </tr>\n",
       "    <tr>\n",
       "      <th>3</th>\n",
       "      <td>/home/ubuntu/us-south-fs/indo-journal-pipeline...</td>\n",
       "      <td>6</td>\n",
       "      <td>False</td>\n",
       "      <td>Medical Laboratory Technology Journal  \\n5 (2)...</td>\n",
       "    </tr>\n",
       "    <tr>\n",
       "      <th>4</th>\n",
       "      <td>/home/ubuntu/us-south-fs/indo-journal-pipeline...</td>\n",
       "      <td>8</td>\n",
       "      <td>True</td>\n",
       "      <td>PENDAHULUAN\\nPendekatan ekonomi politik peruba...</td>\n",
       "    </tr>\n",
       "  </tbody>\n",
       "</table>\n",
       "</div>"
      ],
      "text/plain": [
       "                                            pdf_path  page_count  is_relevant  \\\n",
       "0  /home/ubuntu/us-south-fs/indo-journal-pipeline...          10        False   \n",
       "1  /home/ubuntu/us-south-fs/indo-journal-pipeline...          11        False   \n",
       "2  /home/ubuntu/us-south-fs/indo-journal-pipeline...          18         True   \n",
       "3  /home/ubuntu/us-south-fs/indo-journal-pipeline...           6        False   \n",
       "4  /home/ubuntu/us-south-fs/indo-journal-pipeline...           8         True   \n",
       "\n",
       "                                            ocr_text  \n",
       "0  ABDIMAS : Jurnal Pengabdian Masyarakat Univers...  \n",
       "1  STRATEGI MANAJEMEN SEBAGAI FAKTOR MITICASI DAL...  \n",
       "2   \\nJurnal Al Bayan : Jurnal Jurusan  Pendidika...  \n",
       "3  Medical Laboratory Technology Journal  \\n5 (2)...  \n",
       "4  PENDAHULUAN\\nPendekatan ekonomi politik peruba...  "
      ]
     },
     "execution_count": 22,
     "metadata": {},
     "output_type": "execute_result"
    }
   ],
   "source": [
    "df_new = pd.read_csv('/home/ubuntu/us-south-fs/goto_indo_journal_pipeline/pipeline/ocr_text_extraction/sample_filtered_latest_25_pdf_path.csv')\n",
    "\n",
    "# show dataframe\n",
    "df_new.head()"
   ]
  },
  {
   "cell_type": "code",
   "execution_count": 23,
   "metadata": {},
   "outputs": [
    {
     "data": {
      "text/plain": [
       "0"
      ]
     },
     "execution_count": 23,
     "metadata": {},
     "output_type": "execute_result"
    }
   ],
   "source": [
    "# check if and pdf_path is null\n",
    "len(df_new[df_new[\"pdf_path\"].isnull()])"
   ]
  },
  {
   "cell_type": "code",
   "execution_count": 24,
   "metadata": {},
   "outputs": [
    {
     "name": "stdout",
     "output_type": "stream",
     "text": [
      "/home/ubuntu/us-south-fs/indo-journal-pipeline/indo_journals_sample/7713-30855-1-PB.pdf\n"
     ]
    }
   ],
   "source": [
    "print(df_new.iloc[0][\"pdf_path\"])\n"
   ]
  },
  {
   "cell_type": "code",
   "execution_count": null,
   "metadata": {},
   "outputs": [],
   "source": []
  }
 ],
 "metadata": {
  "kernelspec": {
   "display_name": "venv",
   "language": "python",
   "name": "python3"
  },
  "language_info": {
   "codemirror_mode": {
    "name": "ipython",
    "version": 3
   },
   "file_extension": ".py",
   "mimetype": "text/x-python",
   "name": "python",
   "nbconvert_exporter": "python",
   "pygments_lexer": "ipython3",
   "version": "3.10.12"
  }
 },
 "nbformat": 4,
 "nbformat_minor": 2
}
